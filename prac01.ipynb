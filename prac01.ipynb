{
  "cells": [
    {
      "cell_type": "markdown",
      "id": "2e3d5b79-352b-4800-ae9d-822846a0ece1",
      "metadata": {
        "nbgrader": {
          "grade": false,
          "grade_id": "cell-bdd4d42f95339346",
          "locked": true,
          "schema_version": 3,
          "solution": false,
          "task": false
        },
        "tags": [],
        "id": "2e3d5b79-352b-4800-ae9d-822846a0ece1"
      },
      "source": [
        "# Pràctica 1 - IF, FOR, WHILE, LLISTES"
      ]
    },
    {
      "cell_type": "markdown",
      "id": "49922319-496c-4369-aaa1-86a71d43287e",
      "metadata": {
        "nbgrader": {
          "grade": false,
          "grade_id": "cell-008f62b8682bfb2b",
          "locked": true,
          "schema_version": 3,
          "solution": false,
          "task": false
        },
        "tags": [],
        "id": "49922319-496c-4369-aaa1-86a71d43287e"
      },
      "source": [
        "Desenvolupa un codi per a cada exercici. Per a entregar la pràctica, podeu adjuntar un fitxer amb tots els codis separats per a cada exercici o adjuntar un fitxer per a cada exercici per separat. Es recomana que realitzeu els exercicis de forma individual, preguntant en cas de dubte. **En cas que es detecti una copia, la pràctica té un 0 i, a més a més, l’alumne tindrà més dificultats a l’hora de realitzar l’examen ja que no haurà practicat suficient.**\n",
        "\n",
        "> Es valorarà l’ús d’estructures IF,FOR,WHILE i llistes per a agilitzar el codi i optimitzar-lo."
      ]
    },
    {
      "cell_type": "markdown",
      "id": "dddb4552-50af-4381-8f26-af6c2d898bd3",
      "metadata": {
        "nbgrader": {
          "grade": false,
          "grade_id": "cell-74a16bd849326bf6",
          "locked": true,
          "schema_version": 3,
          "solution": false,
          "task": false
        },
        "tags": [],
        "id": "dddb4552-50af-4381-8f26-af6c2d898bd3"
      },
      "source": [
        "## Exercici 1\n",
        "\n",
        "Crea una frase i transforma-la en una llista. Mostra la llista per pantalla. Després, mostra la seva llista al revés. En acabat, mostra la seva longitud."
      ]
    },
    {
      "cell_type": "code",
      "execution_count": null,
      "id": "f080ea88-8029-43b2-86d4-3025735a1ce9",
      "metadata": {
        "nbgrader": {
          "grade": true,
          "grade_id": "cell-01b34421af65e869",
          "locked": true,
          "points": 1,
          "schema_version": 3,
          "solution": false,
          "task": false
        },
        "tags": [],
        "id": "f080ea88-8029-43b2-86d4-3025735a1ce9"
      },
      "outputs": [],
      "source": [
        "frase = \"programacion\"\n",
        "x = list(\"programacion\")\n",
        "print(x)\n",
        "\n",
        "x.reverse()\n",
        "print(x)\n",
        "\n",
        "len(x)"
      ]
    },
    {
      "cell_type": "markdown",
      "id": "df8b3a08-2277-42b5-bbf7-ba06e8da0183",
      "metadata": {
        "nbgrader": {
          "grade": false,
          "grade_id": "cell-8263e7e5ec48d93c",
          "locked": true,
          "schema_version": 3,
          "solution": false,
          "task": false
        },
        "tags": [],
        "id": "df8b3a08-2277-42b5-bbf7-ba06e8da0183"
      },
      "source": [
        "## Exercici 2\n",
        "\n",
        "Desenvolupa un programa que demani tres nombres a l’usuari i indiqui quin d’ells és més gran."
      ]
    },
    { 
      "cell_type": "code",
      "execution_count": null,
      "id": "92bceb75-e717-45ff-9687-e6ea77b9bced",
      "metadata": {
        "id": "92bceb75-e717-45ff-9687-e6ea77b9bced"
      },
      "outputs": [],
      "source": [
        "lista=[]\n",
        "\n",
        "for i in range(3):\n",
        "  Nombre = (input(\"Nombre:\"))\n",
        "  lista.append(Nombre)\n",
        "x=max(lista)\n",
        "print(f\"El valor mas alto es el {x}\")\n"
      ]
    },
    {
      "cell_type": "markdown",
      "id": "78fed00f-086c-46a5-b814-dcb358837cac",
      "metadata": {
        "id": "78fed00f-086c-46a5-b814-dcb358837cac"
      },
      "source": [
        "## Exercici 3\n",
        "\n",
        "Escriu un snippet que retorni les posicions imparells del següent array: vector = [3,6,2,9,7,4,5,7]. Ha de mostrar per pantalla 6, 9, 4, 7."
      ]
    },
    {
      "cell_type": "code",
      "execution_count": 8,
      "id": "e0787212-1f81-4317-986a-dc937d03e6ab",
      "metadata": {
        "colab": {
          "base_uri": "https://localhost:8080/"
        },
        "id": "e0787212-1f81-4317-986a-dc937d03e6ab",
        "outputId": "d8a64835-abb7-4fb4-8431-90d8a24c2ce3"
      },
      "outputs": [
        {
          "output_type": "stream",
          "name": "stdout",
          "text": [
            "6947"
          ]
        }
      ],
      "source": [
        "vector = [3,6,2,9,7,4,5,7]\n",
        "for num in range(1, len(vector),2):\n",
        "  print(vector[num],end=\",")"
      ]
    },
    {
      "cell_type": "markdown",
      "id": "30b18b46-46f9-4574-bcd9-03fd929abf04",
      "metadata": {
        "id": "30b18b46-46f9-4574-bcd9-03fd929abf04"
      },
      "source": [
        "## Exercici 4\n",
        "\n",
        "#Desenvolupa un programa que calculi la mitja de l’array (20,3,15,18)\n",
        "```python\n",
        "lista=(20,3,15,18)\n",
        "print(f\"La mitjana aritmetica es: {sum(lista)/len(lista)}\")\n",
        "```"
      ]
    },
    {
      "cell_type": "markdown",
      "id": "8e4019d0-551f-402b-ae85-de2664766593",
      "metadata": {
        "id": "8e4019d0-551f-402b-ae85-de2664766593"
      },
      "source": [
        "## Exercici 5\n",
        "Genera un codi vagi recorrent la frase: “En un lugar de la Mancha” fins que trobi la M. En acabat, ha de dir quantes lletres i espais hi ha fins la M."
      ]
    },
    {
      "cell_type": "code",
      "execution_count": null,
      "id": "4610e571-f48c-4b26-95a8-e09dc655c562",
      "metadata": {
        "id": "4610e571-f48c-4b26-95a8-e09dc655c562"
      },
      "outputs": [],
      "source": [
        "frase = \"En un lugar de la mancha\"\n",
        "fraseA = frase[0:19]\n",
        "caracteres = len(fraseA)\n",
        "print(fraseA)\n",
        "print(caracteres)"
      ]
    },
    {
      "cell_type": "markdown",
      "id": "d84b24b9-c73d-46f0-b5da-bb87aab394fa",
      "metadata": {
        "id": "d84b24b9-c73d-46f0-b5da-bb87aab394fa"
      },
      "source": [
        "## Exercici 6\n",
        "\n",
        "Modifica el següent codi per a que no es mostrin mai les “a”:\n",
        "\n",
        "```python\n",
        "frase = \"Soy el mas guay del paraguay\"\n",
        "for i in frase:\n",
        "    print(i)\n",
        "```"
      ]
    },
    {
      "cell_type": "code",
      "execution_count": null,
      "id": "33ed8a70-9cc4-4120-8428-d197c775a5de",
      "metadata": {
        "id": "33ed8a70-9cc4-4120-8428-d197c775a5de"
      },
      "outputs": [],
      "source": [
        "frase = \"Soy el mas guay del paraguay\"\n",
        "fraseA = frase.replace(\"a\",\"\")\n",
        "for i in fraseA:\n",
        " print(i) "
      ]
    },
    {
      "cell_type": "markdown",
      "id": "032a8f7d-fc01-46fc-9302-f2db8ab08ec0",
      "metadata": {
        "id": "032a8f7d-fc01-46fc-9302-f2db8ab08ec0"
      },
      "source": [
        "## Exercici 7\n",
        "\n",
        "Escriu un programa que a cada component de l’array = [4,4,5,2,7,3] li sumi 3 utilitzant un bucle for. L’array ha de quedar array=[7,7,8,5,10,6]."
      ]
    },
    {
      "cell_type": "code",
      "execution_count": null,
      "id": "60c02507-5508-4f4d-beb6-04c86a44f5f3",
      "metadata": {
        "id": "60c02507-5508-4f4d-beb6-04c86a44f5f3"
      },
      "outputs": [],
      "source": [
        "lista = [4,4,5,2,7,3]\n",
        "lista1 = [3,3,3,3,3,3]\n",
        "lista2 = []\n",
        "for num in range(len(lista)):\n",
        "  lista2.append(lista[num]+lista1[num])\n",
        "print(lista2)\n",
        "  "
      ]
    },
    {
      "cell_type": "markdown",
      "id": "7ebce496-6ba2-4543-b63a-c392659df722",
      "metadata": {
        "id": "7ebce496-6ba2-4543-b63a-c392659df722"
      },
      "source": [
        "## Exercici 8\n",
        "\n",
        "Crea una “tragaperras” de tres nombres entre 0 i 5. S’indica a l’usuari quins nombres han sortit. Si coincideixen, un missatge ha de dir: “has guanyat” i sortir del programa. L’usuari pot fer el nombre de tirades que vulgui fins que digui “prou”. S’ha de mostrar el nombre de jugades fins a dir “prou”. S’ha de mostrar també el nombre de diners perduts. Cada tirada costa 1€ i guanyar dona 10€."
      ]
    },
    {
      "cell_type": "code",
      "execution_count": null,
      "id": "9056e741-e6a1-41a4-8cda-4b0833f55083",
      "metadata": {
        "id": "9056e741-e6a1-41a4-8cda-4b0833f55083"
      },
      "outputs": [],
      "source": [
        "import random\n",
        "intentos = 0\n",
        "cont=0\n",
        "dinero= 0\n",
        "x=input(\"Quieres tirar?:\")\n",
        "  \n",
        "while(x == \"Si\" or \"si\"):\n",
        "  num1 = random.randint(0,5)\n",
        "  num2 = random.randint(0,5)\n",
        "  num3 = random.randint(0,5)\n",
        "\n",
        "  if(num1!=num2!=num3):\n",
        "    print(num1,num2,num3)\n",
        "    intentos = intentos + 1\n",
        "    dinero = dinero - 1\n",
        "    print(f\"Llevas {intentos} intentos\")\n",
        "    print(f\"Beneficio total:{dinero}€\")\n",
        "    x=input(\"Tirar otra vez?\")\n",
        "    \n",
        "  elif(num1==num2!=num3):\n",
        "    print(num1,num2,num3)\n",
        "    intentos = intentos + 1\n",
        "    dinero = dinero - 1\n",
        "    print(f\"Llevas {intentos} intentos\")\n",
        "    print(f\"Beneficio total:{dinero}€\")\n",
        "    x=input(\"Tirar otra vez?\")\n",
        "    \n",
        "  elif(num1!=num2==num3):\n",
        "    print(num1,num2,num3)\n",
        "    intentos = intentos + 1\n",
        "    dinero = dinero - 1\n",
        "    print(f\"Llevas {intentos} intentos\")\n",
        "    print(f\"Beneficio total:{dinero}€\")\n",
        "    x=input(\"Tirar otra vez?\")\n",
        "  \n",
        "  if(num1==num2==num3):\n",
        "    intentos = intentos + 1\n",
        "    dinero = dinero + 10\n",
        "    print(num1,num2,num3)\n",
        "    print(f\"Beneficio total:{dinero}€\")\n",
        "    print(f\"Llevas {intentos} intentos\")\n",
        "    print(\"¡Has ganado!\")\n",
        "    \n",
        "  if(x==\"Prou\" or x==\"No\" or x==\"no\"):\n",
        "    print(f\"Nº intentos:{intentos}\")\n",
        "    print(f\"Beneficio total:{dinero}€\")\n",
        "    print(\"Final\")\n",
        "    break "
      ]
    },
    {
      "cell_type": "markdown",
      "id": "4404fb8c-54ca-4e1f-bdbd-80832e54218c",
      "metadata": {
        "id": "4404fb8c-54ca-4e1f-bdbd-80832e54218c"
      },
      "source": [
        "## Exercici 9\n",
        "Crea un codi que mostri per pantalla els elements imparells de la següent llista = [15,10,3,45,56,2,2,68,10,23] fins que s’arribi al 68."
      ]
    },
    {
      "cell_type": "code",
      "execution_count": 10,
      "id": "21a365a1-55fd-4ad0-8d3a-04e2c6e91cab",
      "metadata": {
        "colab": {
          "base_uri": "https://localhost:8080/"
        },
        "id": "21a365a1-55fd-4ad0-8d3a-04e2c6e91cab",
        "outputId": "baa8ed3e-c731-4705-943c-71a80eb20961"
      },
      "outputs": [
        {
          "output_type": "stream",
          "name": "stdout",
          "text": [
            "15\n",
            "3\n",
            "45\n"
          ]
        }
      ],
      "source": [
        "lista = [15,10,3,45,56,2,2,68,10,23]  \n",
        "lista1 = lista[0:8]\n",
        "for num in lista1:\n",
        "  if num % 2 != 0:\n",
        "   print(num)"
      ]
    },
    {
      "cell_type": "markdown",
      "id": "43577719-4977-4aa9-92b7-60a2a8faf3b4",
      "metadata": {
        "id": "43577719-4977-4aa9-92b7-60a2a8faf3b4"
      },
      "source": [
        "## Exercici 10\n",
        "\n",
        "Crea el joc del penjat. Crea una paraula secreta de cinc lletres. S’ha d’anar mostrant per pantalla _ _ _ _ _ i substituint les _ a mesura que l’usuari vagi introduint lletres correctes. El programa acabarà després de 10 intents o si la paraula s’encerta."
      ]
    },
    {
      "cell_type": "code",
      "execution_count": null,
      "id": "c263e2b3-4f47-4df4-9572-f9359c8ff255",
      "metadata": {
        "id": "c263e2b3-4f47-4df4-9572-f9359c8ff255"
      },
      "outputs": [],
      "source": [
        "paraula = \"messi\"\n",
        "errores = 0\n",
        "let2=[]\n",
        "while (errores<10):\n",
        "  letra=input(\"Posa una lletra : \")\n",
        "  let2.append(letra)\n",
        "  if letra in paraula:\n",
        "    print(\"Has encertat\")\n",
        "  elif letra not in paraula:\n",
        "    errores = errores + 1\n",
        "    cont = 10 - errores\n",
        "    print(f\"Incorrecte, portes {errores} errors, tens {cont} intents més\")\n",
        "  cont = 0\n",
        "  for i in paraula:\n",
        "    if i in let2:\n",
        "      print(i, end=\"\") \n",
        "    elif i not in let2:\n",
        "      print(\"_\",end=\"\")\n",
        "  \n",
        "if(errores==10):\n",
        "  print(\"Has perdut\")"
      ]
    },
    {
      "cell_type": "markdown",
      "id": "13dba29e-1959-40f0-9991-295f76b528c7",
      "metadata": {
        "id": "13dba29e-1959-40f0-9991-295f76b528c7"
      },
      "source": [
        "## Exercici 11\n",
        "Crea un codi que obtingui 5 nombres aleatoris del 1 al 5 i els vagi guardant en una llista mitjançant un for. Només que un dels nombres sigui el 3, el for s’ha d’aturar i mostrar la llista amb els nombres que tingui."
      ]
    },
    {
      "cell_type": "code",
      "execution_count": 12,
      "id": "fe5ffed3-1fa5-49bd-9c31-b36cd48324b5",
      "metadata": {
        "colab": {
          "base_uri": "https://localhost:8080/"
        },
        "id": "fe5ffed3-1fa5-49bd-9c31-b36cd48324b5",
        "outputId": "b556b489-bb82-46ea-dd79-b887218596ea"
      },
      "outputs": [
        {
          "output_type": "stream",
          "name": "stdout",
          "text": [
            "[5, 3]\n"
          ]
        }
      ],
      "source": [
        "import random\n",
        "lista=[]\n",
        "for i in range(5):\n",
        "  x=random.randint(1,5)\n",
        "  lista.append(x)\n",
        "  if(x==3):\n",
        "    break\n",
        "print(lista)"
      ]
    },
    {
      "cell_type": "markdown",
      "id": "5ff3f60a-31b7-4a7a-b84b-82209a61f221",
      "metadata": {
        "id": "5ff3f60a-31b7-4a7a-b84b-82209a61f221"
      },
      "source": [
        "## Exercici 12\n",
        "\n",
        "Crear un programa que afegeixi números a una llista fins que introduïm un número negatiu. A continuació heu de crear una nova llista igual que l'anterior però eliminant els números duplicats. Mostra aquesta segona llista per comprovar que hem eliminat els duplicats."
      ]
    },
    {
      "cell_type": "code",
      "execution_count": 13,
      "id": "ef7b55dd-554a-48f5-9da8-f209fcb39ed9",
      "metadata": {
        "colab": {
          "base_uri": "https://localhost:8080/"
        },
        "id": "ef7b55dd-554a-48f5-9da8-f209fcb39ed9",
        "outputId": "6c3f90c6-6cfd-4340-8aac-f2825a27f29d"
      },
      "outputs": [
        {
          "output_type": "stream",
          "name": "stdout",
          "text": [
            "Que numero quieres añadir?6\n",
            "Que numero quieres añadir?5\n",
            "Que numero quieres añadir?3\n",
            "Que numero quieres añadir?4\n",
            "Que numero quieres añadir?5\n",
            "Que numero quieres añadir?-2\n",
            "Final\n",
            "Primera llista:[6, 5, 3, 4, 5, -2]\n",
            "Llista sense duplicats:[6, 5, 3, 4, -2]\n"
          ]
        }
      ],
      "source": [
        "llista=[]\n",
        "num=int(input(\"Que numero quieres añadir?\"))\n",
        "llista.append(num)\n",
        "while(num > 0):\n",
        "   num=int(input(\"Que numero quieres añadir?\"))\n",
        "   llista.append(num)\n",
        "if(num<0):\n",
        "  print(\"Final\")\n",
        "  print(f\"Primera llista:{llista}\")\n",
        "  \n",
        "llista2=[]\n",
        "for x in llista:\n",
        "  if x not in llista2:\n",
        "    llista2.append(x)\n",
        "print(f\"Llista sense duplicats:{llista2}\")"
      ]
    },
    {
      "cell_type": "markdown",
      "id": "4653551d-df75-44e7-99ef-924177b77bad",
      "metadata": {
        "id": "4653551d-df75-44e7-99ef-924177b77bad"
      },
      "source": [
        "## Exercici 13\n",
        "S’ha decidit fer una recuperació d’un examen de programació d’ASIX que ha anat molt malament per diversos motius. Dissenya un programa que pregunti quina nota s’ha tret en el primer examen i quina nota es creu que es traurà en aquest examen de recuperació. Després es pregunta a l’usuari quin criteri creu que farà servir el professor per tenir la nota final del parcial basant-se en els següents criteris i es mostrarà la nota final.\n",
        "\n",
        "* El professor farà una bona mitja. La nota final serà el 20% de la nota del primer examen i el 80% de la nota d’aquest examen.\n",
        "* El professor farà una mitja normal. La nota final serà el 35% de la nota del primer examen i el 65% de la nota d’aquest examen.\n",
        "* El professor farà una mala mitja. La nota final serà el 50% de la nota del primer examen i el 50% de la nota d’aquest examen.\n"
      ]
    },
    {
      "cell_type": "code",
      "execution_count": 14,
      "id": "f35e4add-8972-43f6-947e-22b55d6b81f3",
      "metadata": {
        "colab": {
          "base_uri": "https://localhost:8080/"
        },
        "id": "f35e4add-8972-43f6-947e-22b55d6b81f3",
        "outputId": "bf2284da-cf64-4af9-c1ee-dd0f93c37103"
      },
      "outputs": [
        {
          "output_type": "stream",
          "name": "stdout",
          "text": [
            "Quina nota has tret en el 1º examen?:8.5\n",
            "Quina nota has tret en el 2º examen?:2.3\n",
            "Criteri que creus que utilitzara el profesor?(Bo, Normal, o Dolent):Normal\n",
            "La teva nota final es: 4.47\n"
          ]
        }
      ],
      "source": [
        "examen1=float(input(\"Quina nota has tret en el 1º examen?:\"))\n",
        "examen2=float(input(\"Quina nota has tret en el 2º examen?:\"))\n",
        "criteri=input(\"Criteri que creus que utilitzara el profesor?(Bo, Normal, o Dolent):\")\n",
        "\n",
        "if(criteri==\"Bo\"):\n",
        "  mitjana=(examen1 * 0.2 + examen2 * 0.8)\n",
        "  print(f\"La teva nota final es: {mitjana}\")\n",
        "\n",
        "if(criteri==\"Normal\"):\n",
        "  mitjana=(examen1 * 0.35 + examen2 * 0.65)\n",
        "  print(f\"La teva nota final es: {mitjana}\")\n",
        "\n",
        "if(criteri==\"Dolent\"):\n",
        "  mitjana=(examen1 * 0.5 + examen2 * 0.5)\n",
        "  print(f\"La teva nota final es: {mitjana}\")"
      ]
    },
    {
      "cell_type": "markdown",
      "id": "11041821-4102-4e33-82f1-eefa48107cc0",
      "metadata": {
        "id": "11041821-4102-4e33-82f1-eefa48107cc0"
      },
      "source": [
        "## Exercici 14\n",
        "\n",
        "Modifica el programa anterior per a que la nota final s’obtingui de forma aleatòria tenin en compte la següent comanda rand = random.uniform(0,1). Aquesta comanda obté un nombre aleatori amb decimals entre 0 i 1. La nota del primer examen es multiplicarà per aquest factor i la d’aquest examen per la resta. S’ha de mostrar la nota final."
      ]
    },
    {
      "cell_type": "code",
      "execution_count": null,
      "id": "e5294d68-8c4e-49b9-a58f-a4cce7452626",
      "metadata": {
        "id": "e5294d68-8c4e-49b9-a58f-a4cce7452626"
      },
      "outputs": [],
      "source": [
        "examen1=float(input(\"Quina nota has tret en el 1º examen?:\"))\n",
        "examen2=float(input(\"Quina nota has tret en el 2º examen?:\"))\n",
        "rand = random.uniform(0,1)\n",
        "r2 = 1 - rand\n",
        "notafinal = examen1 * rand + examen2 * r2\n",
        "print(f\"Criteri mitjana del primer examen = {rand}\")\n",
        "print(f\"Criteri mitjana del segon examen = {r2}\")\n",
        "print(f\"La teva nota final es: {notafinal}\")"
      ]
    },
    {
      "cell_type": "markdown",
      "id": "526a93dd-5260-4d6a-9f7c-40658f2b6132",
      "metadata": {
        "id": "526a93dd-5260-4d6a-9f7c-40658f2b6132"
      },
      "source": [
        "## Exercici 15\n",
        "\n",
        "Donada la següent llista = [39,62,24,71,40,53,12,99,20,111], desenvolupa un programa que generi una llista amb els nombres divisibles entre 3 i una altra llista amb els que no ho son. Un cop estan distribuits, la llista original s’ha de substituir per un 0 en tots els seus elements. Un cop acabat, es mostren totes les llistes."
      ]
    },
    {
      "cell_type": "code",
      "execution_count": 18,
      "id": "574fd70e-8236-417b-a79f-27ea1cca2d3a",
      "metadata": {
        "colab": {
          "base_uri": "https://localhost:8080/"
        },
        "id": "574fd70e-8236-417b-a79f-27ea1cca2d3a",
        "outputId": "27c7d5e3-dfdc-4f98-c2d6-6ef0d386c8bc"
      },
      "outputs": [
        {
          "output_type": "stream",
          "name": "stdout",
          "text": [
            "Nombres divisibles entre 3: [39, 24, 12, 99, 111]\n",
            "Nombres no divisibles entre 3: [62, 71, 40, 53, 20]\n",
            "Llista original: [0, 0, 0, 0, 0, 0, 0, 0, 0, 0]\n"
          ]
        }
      ],
      "source": [
        "l1 = [39,62,24,71,40,53,12,99,20,111]\n",
        "l2 = []\n",
        "l3 = []\n",
        "for num in l1:\n",
        "  if num % 3 == 0:\n",
        "    l2.append(num)\n",
        "  if num % 3 != 0:\n",
        "    l3.append(num)\n",
        "l1[0:10]=[0,0,0,0,0,0,0,0,0,0] \n",
        "print(f\"Nombres divisibles entre 3: {l2}\")\n",
        "print(f\"Nombres no divisibles entre 3: {l3}\")\n",
        "print(f\"Llista original: {l1}\")"
      ]
    },
    {
      "cell_type": "code",
      "execution_count": null,
      "id": "0e660d40-4896-465f-abf7-41262f9747b6",
      "metadata": {
        "id": "0e660d40-4896-465f-abf7-41262f9747b6"
      },
      "outputs": [],
      "source": []
    }
  ],
  "metadata": {
    "kernelspec": {
      "display_name": "Python 3",
      "language": "python",
      "name": "python3"
    },
    "language_info": {
      "codemirror_mode": {
        "name": "ipython",
        "version": 3
      },
      "file_extension": ".py",
      "mimetype": "text/x-python",
      "name": "python",
      "nbconvert_exporter": "python",
      "pygments_lexer": "ipython3",
      "version": "3.10.6"
    },
    "colab": {
      "provenance": [],
      "collapsed_sections": []
    }
  },
  "nbformat": 4,
  "nbformat_minor": 5
}
